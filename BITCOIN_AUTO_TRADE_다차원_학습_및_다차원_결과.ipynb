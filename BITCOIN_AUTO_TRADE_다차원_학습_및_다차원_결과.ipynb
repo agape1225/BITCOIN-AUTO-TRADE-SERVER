{
  "nbformat": 4,
  "nbformat_minor": 0,
  "metadata": {
    "colab": {
      "provenance": [],
      "gpuType": "T4",
      "mount_file_id": "15Q5EWfUGI268zyt52t_Oa3tl6b6xOxQX",
      "authorship_tag": "ABX9TyPN+sq+Msj20VWNgrOkx+z4",
      "include_colab_link": true
    },
    "kernelspec": {
      "name": "python3",
      "display_name": "Python 3"
    },
    "language_info": {
      "name": "python"
    },
    "accelerator": "GPU"
  },
  "cells": [
    {
      "cell_type": "markdown",
      "metadata": {
        "id": "view-in-github",
        "colab_type": "text"
      },
      "source": [
        "<a href=\"https://colab.research.google.com/github/agape1225/BITCOIN-AUTO-TRADE-SERVER/blob/main/BITCOIN_AUTO_TRADE_%EB%8B%A4%EC%B0%A8%EC%9B%90_%ED%95%99%EC%8A%B5_%EB%B0%8F_%EB%8B%A4%EC%B0%A8%EC%9B%90_%EA%B2%B0%EA%B3%BC.ipynb\" target=\"_parent\"><img src=\"https://colab.research.google.com/assets/colab-badge.svg\" alt=\"Open In Colab\"/></a>"
      ]
    },
    {
      "cell_type": "code",
      "execution_count": null,
      "metadata": {
        "id": "1I6U3hOJ4hXF"
      },
      "outputs": [],
      "source": [
        "import os\n",
        "import pandas as pd\n",
        "import numpy as np\n",
        "import math\n",
        "import datetime as dt\n",
        "import matplotlib.pyplot as plt\n",
        "\n",
        "# For Evalution we will use these library\n",
        "\n",
        "from sklearn.metrics import mean_squared_error, mean_absolute_error, explained_variance_score, r2_score\n",
        "from sklearn.metrics import mean_poisson_deviance, mean_gamma_deviance, accuracy_score\n",
        "from sklearn.preprocessing import MinMaxScaler, StandardScaler\n",
        "\n",
        "# For model building we will use these library\n",
        "\n",
        "import tensorflow as tf\n",
        "from tensorflow.keras.models import Sequential\n",
        "from tensorflow.keras.layers import Dense, Dropout\n",
        "from tensorflow.keras.layers import LSTM\n",
        "\n",
        "\n",
        "# For PLotting we will use these library\n",
        "\n",
        "import matplotlib.pyplot as plt\n",
        "from itertools import cycle\n",
        "import plotly.graph_objects as go\n",
        "import plotly.express as px\n",
        "from plotly.subplots import make_subplots\n",
        "\n",
        "import matplotlib.pyplot as plt"
      ]
    },
    {
      "cell_type": "code",
      "source": [
        "# 데이터 불러오기\n",
        "maindf = pd.read_csv('BTC_KRW.csv')\n",
        "maindf = maindf.iloc[::-1]\n",
        "\n",
        "# 필요한 열 선택\n",
        "closedf = maindf[['시가', '종가', '고가', '저가', '거래량']]\n",
        "\n",
        "# 데이터 전처리\n",
        "closedf['종가'] = closedf['종가'].str.replace(',', '').astype(float).copy()\n",
        "closedf['시가'] = closedf['시가'].str.replace(',', '').astype(float).copy()\n",
        "closedf['고가'] = closedf['고가'].str.replace(',', '').astype(float).copy()\n",
        "closedf['저가'] = closedf['저가'].str.replace(',', '').astype(float).copy()\n",
        "closedf['거래량'] = closedf['거래량'].str.replace('K', '').astype(float).copy()"
      ],
      "metadata": {
        "colab": {
          "base_uri": "https://localhost:8080/"
        },
        "id": "Rdv6JBh6B2Av",
        "outputId": "ce063706-47fa-4a64-a277-e795b7eefa8f"
      },
      "execution_count": null,
      "outputs": [
        {
          "output_type": "stream",
          "name": "stderr",
          "text": [
            "<ipython-input-9-b52f40b8e3e9>:9: SettingWithCopyWarning: \n",
            "A value is trying to be set on a copy of a slice from a DataFrame.\n",
            "Try using .loc[row_indexer,col_indexer] = value instead\n",
            "\n",
            "See the caveats in the documentation: https://pandas.pydata.org/pandas-docs/stable/user_guide/indexing.html#returning-a-view-versus-a-copy\n",
            "  closedf['종가'] = closedf['종가'].str.replace(',', '').astype(float).copy()\n",
            "<ipython-input-9-b52f40b8e3e9>:10: SettingWithCopyWarning: \n",
            "A value is trying to be set on a copy of a slice from a DataFrame.\n",
            "Try using .loc[row_indexer,col_indexer] = value instead\n",
            "\n",
            "See the caveats in the documentation: https://pandas.pydata.org/pandas-docs/stable/user_guide/indexing.html#returning-a-view-versus-a-copy\n",
            "  closedf['시가'] = closedf['시가'].str.replace(',', '').astype(float).copy()\n",
            "<ipython-input-9-b52f40b8e3e9>:11: SettingWithCopyWarning: \n",
            "A value is trying to be set on a copy of a slice from a DataFrame.\n",
            "Try using .loc[row_indexer,col_indexer] = value instead\n",
            "\n",
            "See the caveats in the documentation: https://pandas.pydata.org/pandas-docs/stable/user_guide/indexing.html#returning-a-view-versus-a-copy\n",
            "  closedf['고가'] = closedf['고가'].str.replace(',', '').astype(float).copy()\n",
            "<ipython-input-9-b52f40b8e3e9>:12: SettingWithCopyWarning: \n",
            "A value is trying to be set on a copy of a slice from a DataFrame.\n",
            "Try using .loc[row_indexer,col_indexer] = value instead\n",
            "\n",
            "See the caveats in the documentation: https://pandas.pydata.org/pandas-docs/stable/user_guide/indexing.html#returning-a-view-versus-a-copy\n",
            "  closedf['저가'] = closedf['저가'].str.replace(',', '').astype(float).copy()\n",
            "<ipython-input-9-b52f40b8e3e9>:13: SettingWithCopyWarning: \n",
            "A value is trying to be set on a copy of a slice from a DataFrame.\n",
            "Try using .loc[row_indexer,col_indexer] = value instead\n",
            "\n",
            "See the caveats in the documentation: https://pandas.pydata.org/pandas-docs/stable/user_guide/indexing.html#returning-a-view-versus-a-copy\n",
            "  closedf['거래량'] = closedf['거래량'].str.replace('K', '').astype(float).copy()\n"
          ]
        }
      ]
    },
    {
      "cell_type": "code",
      "source": [
        "# 데이터 정규화\n",
        "scaler = MinMaxScaler(feature_range=(0, 1))\n",
        "closedf = scaler.fit_transform(closedf)\n",
        "\n",
        "# 데이터 분할\n",
        "training_size = int(len(closedf) * 0.60)\n",
        "test_size = len(closedf) - training_size\n",
        "train_data, test_data = closedf[0:training_size, :], closedf[training_size:len(closedf), :]"
      ],
      "metadata": {
        "id": "cwBa0Yi-CvqD"
      },
      "execution_count": null,
      "outputs": []
    },
    {
      "cell_type": "code",
      "source": [
        "# 시계열 데이터셋 생성 함수\n",
        "def create_dataset(dataset, time_step=1, target_num=1):\n",
        "    dataX, dataY = [], []\n",
        "    for i in range(len(dataset) - time_step - target_num):\n",
        "        a = dataset[i:(i+time_step), :]\n",
        "        b = dataset[i + time_step : i + time_step + target_num, 1]\n",
        "\n",
        "        dataX.append(a)\n",
        "        dataY.append(b)\n",
        "\n",
        "    return np.array(dataX), np.array(dataY)\n",
        "\n",
        "# 시계열 데이터셋 생성\n",
        "time_step = 60\n",
        "target_num = 8\n",
        "X_train, y_train = create_dataset(train_data, time_step, target_num)\n",
        "X_test, y_test = create_dataset(test_data, time_step, target_num)"
      ],
      "metadata": {
        "id": "TR76FkgWCxc1"
      },
      "execution_count": null,
      "outputs": []
    },
    {
      "cell_type": "code",
      "source": [
        "# 데이터의 차원을 3차원으로 변경\n",
        "X_train = X_train.reshape(X_train.shape[0], X_train.shape[1], X_train.shape[2])\n",
        "X_test = X_test.reshape(X_test.shape[0], X_test.shape[1], X_test.shape[2])"
      ],
      "metadata": {
        "id": "aKLNr_l4Fpu0"
      },
      "execution_count": null,
      "outputs": []
    },
    {
      "cell_type": "code",
      "source": [
        "# LSTM 모델 정의 및 학습\n",
        "model = Sequential()\n",
        "model.add(LSTM(40, input_shape=(X_train.shape[1], X_train.shape[2]), activation=\"tanh\"))\n",
        "model.add(Dense(target_num))\n",
        "model.compile(loss=\"mean_squared_error\", optimizer=\"adam\")\n",
        "\n",
        "history = model.fit(X_train, y_train, validation_data=(X_test, y_test), epochs=90, batch_size=512, verbose=1)"
      ],
      "metadata": {
        "colab": {
          "base_uri": "https://localhost:8080/"
        },
        "id": "H-3XXoZwF6Az",
        "outputId": "c1fc0910-f5dd-41dc-ae6a-93c72ef2e387"
      },
      "execution_count": null,
      "outputs": [
        {
          "output_type": "stream",
          "name": "stdout",
          "text": [
            "Epoch 1/90\n",
            "3/3 [==============================] - 3s 213ms/step - loss: 0.0230 - val_loss: 0.2183\n",
            "Epoch 2/90\n",
            "3/3 [==============================] - 0s 22ms/step - loss: 0.0172 - val_loss: 0.1671\n",
            "Epoch 3/90\n",
            "3/3 [==============================] - 0s 21ms/step - loss: 0.0124 - val_loss: 0.1202\n",
            "Epoch 4/90\n",
            "3/3 [==============================] - 0s 20ms/step - loss: 0.0084 - val_loss: 0.0779\n",
            "Epoch 5/90\n",
            "3/3 [==============================] - 0s 22ms/step - loss: 0.0057 - val_loss: 0.0445\n",
            "Epoch 6/90\n",
            "3/3 [==============================] - 0s 21ms/step - loss: 0.0045 - val_loss: 0.0245\n",
            "Epoch 7/90\n",
            "3/3 [==============================] - 0s 20ms/step - loss: 0.0037 - val_loss: 0.0152\n",
            "Epoch 8/90\n",
            "3/3 [==============================] - 0s 21ms/step - loss: 0.0029 - val_loss: 0.0109\n",
            "Epoch 9/90\n",
            "3/3 [==============================] - 0s 20ms/step - loss: 0.0022 - val_loss: 0.0083\n",
            "Epoch 10/90\n",
            "3/3 [==============================] - 0s 21ms/step - loss: 0.0018 - val_loss: 0.0062\n",
            "Epoch 11/90\n",
            "3/3 [==============================] - 0s 21ms/step - loss: 0.0015 - val_loss: 0.0060\n",
            "Epoch 12/90\n",
            "3/3 [==============================] - 0s 23ms/step - loss: 0.0014 - val_loss: 0.0090\n",
            "Epoch 13/90\n",
            "3/3 [==============================] - 0s 28ms/step - loss: 0.0012 - val_loss: 0.0115\n",
            "Epoch 14/90\n",
            "3/3 [==============================] - 0s 22ms/step - loss: 0.0011 - val_loss: 0.0117\n",
            "Epoch 15/90\n",
            "3/3 [==============================] - 0s 22ms/step - loss: 9.7773e-04 - val_loss: 0.0101\n",
            "Epoch 16/90\n",
            "3/3 [==============================] - 0s 29ms/step - loss: 9.2150e-04 - val_loss: 0.0101\n",
            "Epoch 17/90\n",
            "3/3 [==============================] - 0s 21ms/step - loss: 8.8556e-04 - val_loss: 0.0115\n",
            "Epoch 18/90\n",
            "3/3 [==============================] - 0s 21ms/step - loss: 8.4141e-04 - val_loss: 0.0120\n",
            "Epoch 19/90\n",
            "3/3 [==============================] - 0s 22ms/step - loss: 8.1269e-04 - val_loss: 0.0107\n",
            "Epoch 20/90\n",
            "3/3 [==============================] - 0s 22ms/step - loss: 7.9468e-04 - val_loss: 0.0092\n",
            "Epoch 21/90\n",
            "3/3 [==============================] - 0s 27ms/step - loss: 7.8508e-04 - val_loss: 0.0079\n",
            "Epoch 22/90\n",
            "3/3 [==============================] - 0s 21ms/step - loss: 7.7503e-04 - val_loss: 0.0077\n",
            "Epoch 23/90\n",
            "3/3 [==============================] - 0s 21ms/step - loss: 7.5821e-04 - val_loss: 0.0071\n",
            "Epoch 24/90\n",
            "3/3 [==============================] - 0s 21ms/step - loss: 7.4942e-04 - val_loss: 0.0071\n",
            "Epoch 25/90\n",
            "3/3 [==============================] - 0s 21ms/step - loss: 7.4067e-04 - val_loss: 0.0075\n",
            "Epoch 26/90\n",
            "3/3 [==============================] - 0s 21ms/step - loss: 7.3469e-04 - val_loss: 0.0081\n",
            "Epoch 27/90\n",
            "3/3 [==============================] - 0s 21ms/step - loss: 7.2757e-04 - val_loss: 0.0079\n",
            "Epoch 28/90\n",
            "3/3 [==============================] - 0s 22ms/step - loss: 7.2318e-04 - val_loss: 0.0072\n",
            "Epoch 29/90\n",
            "3/3 [==============================] - 0s 22ms/step - loss: 7.1629e-04 - val_loss: 0.0071\n",
            "Epoch 30/90\n",
            "3/3 [==============================] - 0s 21ms/step - loss: 7.1195e-04 - val_loss: 0.0068\n",
            "Epoch 31/90\n",
            "3/3 [==============================] - 0s 24ms/step - loss: 7.0858e-04 - val_loss: 0.0068\n",
            "Epoch 32/90\n",
            "3/3 [==============================] - 0s 21ms/step - loss: 7.0525e-04 - val_loss: 0.0066\n",
            "Epoch 33/90\n",
            "3/3 [==============================] - 0s 21ms/step - loss: 7.0078e-04 - val_loss: 0.0069\n",
            "Epoch 34/90\n",
            "3/3 [==============================] - 0s 22ms/step - loss: 6.9767e-04 - val_loss: 0.0067\n",
            "Epoch 35/90\n",
            "3/3 [==============================] - 0s 21ms/step - loss: 6.9328e-04 - val_loss: 0.0064\n",
            "Epoch 36/90\n",
            "3/3 [==============================] - 0s 21ms/step - loss: 6.9015e-04 - val_loss: 0.0060\n",
            "Epoch 37/90\n",
            "3/3 [==============================] - 0s 22ms/step - loss: 6.8707e-04 - val_loss: 0.0061\n",
            "Epoch 38/90\n",
            "3/3 [==============================] - 0s 21ms/step - loss: 6.8347e-04 - val_loss: 0.0064\n",
            "Epoch 39/90\n",
            "3/3 [==============================] - 0s 22ms/step - loss: 6.8182e-04 - val_loss: 0.0063\n",
            "Epoch 40/90\n",
            "3/3 [==============================] - 0s 22ms/step - loss: 6.7753e-04 - val_loss: 0.0064\n",
            "Epoch 41/90\n",
            "3/3 [==============================] - 0s 21ms/step - loss: 6.7619e-04 - val_loss: 0.0067\n",
            "Epoch 42/90\n",
            "3/3 [==============================] - 0s 26ms/step - loss: 6.7422e-04 - val_loss: 0.0063\n",
            "Epoch 43/90\n",
            "3/3 [==============================] - 0s 22ms/step - loss: 6.6924e-04 - val_loss: 0.0060\n",
            "Epoch 44/90\n",
            "3/3 [==============================] - 0s 22ms/step - loss: 6.6732e-04 - val_loss: 0.0060\n",
            "Epoch 45/90\n",
            "3/3 [==============================] - 0s 21ms/step - loss: 6.6491e-04 - val_loss: 0.0063\n",
            "Epoch 46/90\n",
            "3/3 [==============================] - 0s 22ms/step - loss: 6.6135e-04 - val_loss: 0.0060\n",
            "Epoch 47/90\n",
            "3/3 [==============================] - 0s 21ms/step - loss: 6.5801e-04 - val_loss: 0.0058\n",
            "Epoch 48/90\n",
            "3/3 [==============================] - 0s 21ms/step - loss: 6.5647e-04 - val_loss: 0.0055\n",
            "Epoch 49/90\n",
            "3/3 [==============================] - 0s 24ms/step - loss: 6.5369e-04 - val_loss: 0.0056\n",
            "Epoch 50/90\n",
            "3/3 [==============================] - 0s 22ms/step - loss: 6.5054e-04 - val_loss: 0.0054\n",
            "Epoch 51/90\n",
            "3/3 [==============================] - 0s 22ms/step - loss: 6.4748e-04 - val_loss: 0.0054\n",
            "Epoch 52/90\n",
            "3/3 [==============================] - 0s 22ms/step - loss: 6.4490e-04 - val_loss: 0.0056\n",
            "Epoch 53/90\n",
            "3/3 [==============================] - 0s 22ms/step - loss: 6.4297e-04 - val_loss: 0.0054\n",
            "Epoch 54/90\n",
            "3/3 [==============================] - 0s 27ms/step - loss: 6.3956e-04 - val_loss: 0.0053\n",
            "Epoch 55/90\n",
            "3/3 [==============================] - 0s 22ms/step - loss: 6.3726e-04 - val_loss: 0.0052\n",
            "Epoch 56/90\n",
            "3/3 [==============================] - 0s 21ms/step - loss: 6.3471e-04 - val_loss: 0.0051\n",
            "Epoch 57/90\n",
            "3/3 [==============================] - 0s 21ms/step - loss: 6.3223e-04 - val_loss: 0.0052\n",
            "Epoch 58/90\n",
            "3/3 [==============================] - 0s 29ms/step - loss: 6.2973e-04 - val_loss: 0.0052\n",
            "Epoch 59/90\n",
            "3/3 [==============================] - 0s 35ms/step - loss: 6.2751e-04 - val_loss: 0.0052\n",
            "Epoch 60/90\n",
            "3/3 [==============================] - 0s 28ms/step - loss: 6.2436e-04 - val_loss: 0.0049\n",
            "Epoch 61/90\n",
            "3/3 [==============================] - 0s 37ms/step - loss: 6.2303e-04 - val_loss: 0.0046\n",
            "Epoch 62/90\n",
            "3/3 [==============================] - 0s 27ms/step - loss: 6.2152e-04 - val_loss: 0.0049\n",
            "Epoch 63/90\n",
            "3/3 [==============================] - 0s 34ms/step - loss: 6.1774e-04 - val_loss: 0.0049\n",
            "Epoch 64/90\n",
            "3/3 [==============================] - 0s 30ms/step - loss: 6.1558e-04 - val_loss: 0.0051\n",
            "Epoch 65/90\n",
            "3/3 [==============================] - 0s 32ms/step - loss: 6.1306e-04 - val_loss: 0.0052\n",
            "Epoch 66/90\n",
            "3/3 [==============================] - 0s 28ms/step - loss: 6.1420e-04 - val_loss: 0.0049\n",
            "Epoch 67/90\n",
            "3/3 [==============================] - 0s 32ms/step - loss: 6.1165e-04 - val_loss: 0.0053\n",
            "Epoch 68/90\n",
            "3/3 [==============================] - 0s 32ms/step - loss: 6.0651e-04 - val_loss: 0.0047\n",
            "Epoch 69/90\n",
            "3/3 [==============================] - 0s 33ms/step - loss: 6.0413e-04 - val_loss: 0.0042\n",
            "Epoch 70/90\n",
            "3/3 [==============================] - 0s 32ms/step - loss: 6.0623e-04 - val_loss: 0.0043\n",
            "Epoch 71/90\n",
            "3/3 [==============================] - 0s 25ms/step - loss: 5.9950e-04 - val_loss: 0.0051\n",
            "Epoch 72/90\n",
            "3/3 [==============================] - 0s 33ms/step - loss: 6.0050e-04 - val_loss: 0.0053\n",
            "Epoch 73/90\n",
            "3/3 [==============================] - 0s 33ms/step - loss: 5.9745e-04 - val_loss: 0.0047\n",
            "Epoch 74/90\n",
            "3/3 [==============================] - 0s 30ms/step - loss: 5.9564e-04 - val_loss: 0.0041\n",
            "Epoch 75/90\n",
            "3/3 [==============================] - 0s 34ms/step - loss: 5.9391e-04 - val_loss: 0.0043\n",
            "Epoch 76/90\n",
            "3/3 [==============================] - 0s 34ms/step - loss: 5.9023e-04 - val_loss: 0.0048\n",
            "Epoch 77/90\n",
            "3/3 [==============================] - 0s 43ms/step - loss: 5.8897e-04 - val_loss: 0.0045\n",
            "Epoch 78/90\n",
            "3/3 [==============================] - 0s 37ms/step - loss: 5.8527e-04 - val_loss: 0.0045\n",
            "Epoch 79/90\n",
            "3/3 [==============================] - 0s 30ms/step - loss: 5.8211e-04 - val_loss: 0.0042\n",
            "Epoch 80/90\n",
            "3/3 [==============================] - 0s 34ms/step - loss: 5.8063e-04 - val_loss: 0.0042\n",
            "Epoch 81/90\n",
            "3/3 [==============================] - 0s 36ms/step - loss: 5.7804e-04 - val_loss: 0.0045\n",
            "Epoch 82/90\n",
            "3/3 [==============================] - 0s 34ms/step - loss: 5.7475e-04 - val_loss: 0.0048\n",
            "Epoch 83/90\n",
            "3/3 [==============================] - 0s 29ms/step - loss: 5.7645e-04 - val_loss: 0.0047\n",
            "Epoch 84/90\n",
            "3/3 [==============================] - 0s 22ms/step - loss: 5.7216e-04 - val_loss: 0.0042\n",
            "Epoch 85/90\n",
            "3/3 [==============================] - 0s 21ms/step - loss: 5.6831e-04 - val_loss: 0.0041\n",
            "Epoch 86/90\n",
            "3/3 [==============================] - 0s 21ms/step - loss: 5.6745e-04 - val_loss: 0.0040\n",
            "Epoch 87/90\n",
            "3/3 [==============================] - 0s 22ms/step - loss: 5.6537e-04 - val_loss: 0.0040\n",
            "Epoch 88/90\n",
            "3/3 [==============================] - 0s 28ms/step - loss: 5.6252e-04 - val_loss: 0.0039\n",
            "Epoch 89/90\n",
            "3/3 [==============================] - 0s 21ms/step - loss: 5.6046e-04 - val_loss: 0.0036\n",
            "Epoch 90/90\n",
            "3/3 [==============================] - 0s 22ms/step - loss: 5.5821e-04 - val_loss: 0.0037\n"
          ]
        }
      ]
    },
    {
      "cell_type": "code",
      "source": [
        "# 학습 과정 시각화\n",
        "loss = history.history['loss']\n",
        "val_loss = history.history['val_loss']\n",
        "\n",
        "epochs = range(len(loss))\n",
        "\n",
        "plt.plot(epochs, loss, 'r', label='Training loss')\n",
        "plt.plot(epochs, val_loss, 'b', label='Validation loss')\n",
        "plt.title('Training and validation loss')\n",
        "plt.legend(loc=0)\n",
        "plt.show()"
      ],
      "metadata": {
        "colab": {
          "base_uri": "https://localhost:8080/",
          "height": 452
        },
        "id": "c5hNMG7IQXu5",
        "outputId": "134151d4-4b3f-49b2-b449-a705507845b0"
      },
      "execution_count": null,
      "outputs": [
        {
          "output_type": "display_data",
          "data": {
            "text/plain": [
              "<Figure size 640x480 with 1 Axes>"
            ],
            "image/png": "[encoded data removed]"
          },
          "metadata": {}
        }
      ]
    },
    {
      "cell_type": "code",
      "source": [
        "train_predict=model.predict(X_train)\n",
        "test_predict=model.predict(X_test)\n",
        "\n",
        "X_train.shape, X_test.shape, train_predict.shape, test_predict.shape"
      ],
      "metadata": {
        "colab": {
          "base_uri": "https://localhost:8080/"
        },
        "id": "BowcRJmnAVLF",
        "outputId": "28c8bd91-d77a-475f-c117-dbf051adfc98"
      },
      "execution_count": null,
      "outputs": [
        {
          "output_type": "stream",
          "name": "stdout",
          "text": [
            "41/41 [==============================] - 0s 3ms/step\n",
            "27/27 [==============================] - 0s 3ms/step\n"
          ]
        },
        {
          "output_type": "execute_result",
          "data": {
            "text/plain": [
              "((1310, 60, 5), (852, 60, 5), (1310, 8), (852, 8))"
            ]
          },
          "metadata": {},
          "execution_count": 15
        }
      ]
    },
    {
      "cell_type": "code",
      "source": [
        "onedf = maindf[['종가']]\n",
        "onedf['종가'] = onedf['종가'].str.replace(',', '').astype(float)\n",
        "# 데이터 정규화\n",
        "scalerone = MinMaxScaler(feature_range=(0, 1))\n",
        "onedf = scalerone.fit_transform(onedf)\n",
        "onedf.shape"
      ],
      "metadata": {
        "colab": {
          "base_uri": "https://localhost:8080/"
        },
        "id": "bCLfXqO6fEgG",
        "outputId": "455fd8b5-938b-44d6-c5ab-7b5201644535"
      },
      "execution_count": null,
      "outputs": [
        {
          "output_type": "stream",
          "name": "stderr",
          "text": [
            "<ipython-input-16-96327c31b56a>:2: SettingWithCopyWarning: \n",
            "A value is trying to be set on a copy of a slice from a DataFrame.\n",
            "Try using .loc[row_indexer,col_indexer] = value instead\n",
            "\n",
            "See the caveats in the documentation: https://pandas.pydata.org/pandas-docs/stable/user_guide/indexing.html#returning-a-view-versus-a-copy\n",
            "  onedf['종가'] = onedf['종가'].str.replace(',', '').astype(float)\n"
          ]
        },
        {
          "output_type": "execute_result",
          "data": {
            "text/plain": [
              "(2298, 1)"
            ]
          },
          "metadata": {},
          "execution_count": 16
        }
      ]
    },
    {
      "cell_type": "code",
      "source": [
        "# 예측 결과 역변환 시 shape 문제 해결\n",
        "train_predict = scalerone.inverse_transform(train_predict)\n",
        "test_predict = scalerone.inverse_transform(test_predict)\n",
        "original_ytrain = scalerone.inverse_transform(y_train.reshape(-1,1))\n",
        "original_ytest = scalerone.inverse_transform(y_test.reshape(-1,1))"
      ],
      "metadata": {
        "id": "Ai357VFfe6Dz"
      },
      "execution_count": null,
      "outputs": []
    },
    {
      "cell_type": "code",
      "source": [
        "print(\"Train data R2 score:\", r2_score(original_ytrain, train_predict))\n",
        "print(\"Test data R2 score:\", r2_score(original_ytest, test_predict))"
      ],
      "metadata": {
        "id": "bkjwUtPQ-Q4S",
        "colab": {
          "base_uri": "https://localhost:8080/",
          "height": 315
        },
        "outputId": "47db2546-3093-4e1b-e90e-4d48a8c32c14"
      },
      "execution_count": null,
      "outputs": [
        {
          "output_type": "error",
          "ename": "ValueError",
          "evalue": "Found input variables with inconsistent numbers of samples: [10480, 1310]",
          "traceback": [
            "\u001b[0;31m---------------------------------------------------------------------------\u001b[0m",
            "\u001b[0;31mValueError\u001b[0m                                Traceback (most recent call last)",
            "\u001b[0;32m<ipython-input-11-59560ee74446>\u001b[0m in \u001b[0;36m<cell line: 1>\u001b[0;34m()\u001b[0m\n\u001b[0;32m----> 1\u001b[0;31m \u001b[0mprint\u001b[0m\u001b[0;34m(\u001b[0m\u001b[0;34m\"Train data R2 score:\"\u001b[0m\u001b[0;34m,\u001b[0m \u001b[0mr2_score\u001b[0m\u001b[0;34m(\u001b[0m\u001b[0moriginal_ytrain\u001b[0m\u001b[0;34m,\u001b[0m \u001b[0mtrain_predict\u001b[0m\u001b[0;34m)\u001b[0m\u001b[0;34m)\u001b[0m\u001b[0;34m\u001b[0m\u001b[0;34m\u001b[0m\u001b[0m\n\u001b[0m\u001b[1;32m      2\u001b[0m \u001b[0mprint\u001b[0m\u001b[0;34m(\u001b[0m\u001b[0;34m\"Test data R2 score:\"\u001b[0m\u001b[0;34m,\u001b[0m \u001b[0mr2_score\u001b[0m\u001b[0;34m(\u001b[0m\u001b[0moriginal_ytest\u001b[0m\u001b[0;34m,\u001b[0m \u001b[0mtest_predict\u001b[0m\u001b[0;34m)\u001b[0m\u001b[0;34m)\u001b[0m\u001b[0;34m\u001b[0m\u001b[0;34m\u001b[0m\u001b[0m\n",
            "\u001b[0;32m/usr/local/lib/python3.10/dist-packages/sklearn/metrics/_regression.py\u001b[0m in \u001b[0;36mr2_score\u001b[0;34m(y_true, y_pred, sample_weight, multioutput, force_finite)\u001b[0m\n\u001b[1;32m    909\u001b[0m     \u001b[0;34m-\u001b[0m\u001b[0minf\u001b[0m\u001b[0;34m\u001b[0m\u001b[0;34m\u001b[0m\u001b[0m\n\u001b[1;32m    910\u001b[0m     \"\"\"\n\u001b[0;32m--> 911\u001b[0;31m     y_type, y_true, y_pred, multioutput = _check_reg_targets(\n\u001b[0m\u001b[1;32m    912\u001b[0m         \u001b[0my_true\u001b[0m\u001b[0;34m,\u001b[0m \u001b[0my_pred\u001b[0m\u001b[0;34m,\u001b[0m \u001b[0mmultioutput\u001b[0m\u001b[0;34m\u001b[0m\u001b[0;34m\u001b[0m\u001b[0m\n\u001b[1;32m    913\u001b[0m     )\n",
            "\u001b[0;32m/usr/local/lib/python3.10/dist-packages/sklearn/metrics/_regression.py\u001b[0m in \u001b[0;36m_check_reg_targets\u001b[0;34m(y_true, y_pred, multioutput, dtype)\u001b[0m\n\u001b[1;32m     98\u001b[0m         \u001b[0mcorrect\u001b[0m \u001b[0mkeyword\u001b[0m\u001b[0;34m.\u001b[0m\u001b[0;34m\u001b[0m\u001b[0;34m\u001b[0m\u001b[0m\n\u001b[1;32m     99\u001b[0m     \"\"\"\n\u001b[0;32m--> 100\u001b[0;31m     \u001b[0mcheck_consistent_length\u001b[0m\u001b[0;34m(\u001b[0m\u001b[0my_true\u001b[0m\u001b[0;34m,\u001b[0m \u001b[0my_pred\u001b[0m\u001b[0;34m)\u001b[0m\u001b[0;34m\u001b[0m\u001b[0;34m\u001b[0m\u001b[0m\n\u001b[0m\u001b[1;32m    101\u001b[0m     \u001b[0my_true\u001b[0m \u001b[0;34m=\u001b[0m \u001b[0mcheck_array\u001b[0m\u001b[0;34m(\u001b[0m\u001b[0my_true\u001b[0m\u001b[0;34m,\u001b[0m \u001b[0mensure_2d\u001b[0m\u001b[0;34m=\u001b[0m\u001b[0;32mFalse\u001b[0m\u001b[0;34m,\u001b[0m \u001b[0mdtype\u001b[0m\u001b[0;34m=\u001b[0m\u001b[0mdtype\u001b[0m\u001b[0;34m)\u001b[0m\u001b[0;34m\u001b[0m\u001b[0;34m\u001b[0m\u001b[0m\n\u001b[1;32m    102\u001b[0m     \u001b[0my_pred\u001b[0m \u001b[0;34m=\u001b[0m \u001b[0mcheck_array\u001b[0m\u001b[0;34m(\u001b[0m\u001b[0my_pred\u001b[0m\u001b[0;34m,\u001b[0m \u001b[0mensure_2d\u001b[0m\u001b[0;34m=\u001b[0m\u001b[0;32mFalse\u001b[0m\u001b[0;34m,\u001b[0m \u001b[0mdtype\u001b[0m\u001b[0;34m=\u001b[0m\u001b[0mdtype\u001b[0m\u001b[0;34m)\u001b[0m\u001b[0;34m\u001b[0m\u001b[0;34m\u001b[0m\u001b[0m\n",
            "\u001b[0;32m/usr/local/lib/python3.10/dist-packages/sklearn/utils/validation.py\u001b[0m in \u001b[0;36mcheck_consistent_length\u001b[0;34m(*arrays)\u001b[0m\n\u001b[1;32m    395\u001b[0m     \u001b[0muniques\u001b[0m \u001b[0;34m=\u001b[0m \u001b[0mnp\u001b[0m\u001b[0;34m.\u001b[0m\u001b[0munique\u001b[0m\u001b[0;34m(\u001b[0m\u001b[0mlengths\u001b[0m\u001b[0;34m)\u001b[0m\u001b[0;34m\u001b[0m\u001b[0;34m\u001b[0m\u001b[0m\n\u001b[1;32m    396\u001b[0m     \u001b[0;32mif\u001b[0m \u001b[0mlen\u001b[0m\u001b[0;34m(\u001b[0m\u001b[0muniques\u001b[0m\u001b[0;34m)\u001b[0m \u001b[0;34m>\u001b[0m \u001b[0;36m1\u001b[0m\u001b[0;34m:\u001b[0m\u001b[0;34m\u001b[0m\u001b[0;34m\u001b[0m\u001b[0m\n\u001b[0;32m--> 397\u001b[0;31m         raise ValueError(\n\u001b[0m\u001b[1;32m    398\u001b[0m             \u001b[0;34m\"Found input variables with inconsistent numbers of samples: %r\"\u001b[0m\u001b[0;34m\u001b[0m\u001b[0;34m\u001b[0m\u001b[0m\n\u001b[1;32m    399\u001b[0m             \u001b[0;34m%\u001b[0m \u001b[0;34m[\u001b[0m\u001b[0mint\u001b[0m\u001b[0;34m(\u001b[0m\u001b[0ml\u001b[0m\u001b[0;34m)\u001b[0m \u001b[0;32mfor\u001b[0m \u001b[0ml\u001b[0m \u001b[0;32min\u001b[0m \u001b[0mlengths\u001b[0m\u001b[0;34m]\u001b[0m\u001b[0;34m\u001b[0m\u001b[0;34m\u001b[0m\u001b[0m\n",
            "\u001b[0;31mValueError\u001b[0m: Found input variables with inconsistent numbers of samples: [10480, 1310]"
          ]
        }
      ]
    },
    {
      "cell_type": "code",
      "source": [
        "model.save(\"BITCOIN_MODEL_VER2.h5\")"
      ],
      "metadata": {
        "colab": {
          "base_uri": "https://localhost:8080/"
        },
        "id": "iUcOEiDo47uI",
        "outputId": "d792184d-47e6-45d2-d5df-03f982efed1a"
      },
      "execution_count": null,
      "outputs": [
        {
          "output_type": "stream",
          "name": "stderr",
          "text": [
            "/usr/local/lib/python3.10/dist-packages/keras/src/engine/training.py:3103: UserWarning: You are saving your model as an HDF5 file via `model.save()`. This file format is considered legacy. We recommend using instead the native Keras format, e.g. `model.save('my_model.keras')`.\n",
            "  saving_api.save_model(\n"
          ]
        }
      ]
    },
    {
      "cell_type": "code",
      "source": [
        "from google.colab import drive\n",
        "\n",
        "drive.mount('/content/drive')  # mounts the drive"
      ],
      "metadata": {
        "colab": {
          "base_uri": "https://localhost:8080/"
        },
        "id": "qCaB-z4b4rkj",
        "outputId": "59a1769a-c868-4197-9636-8a5e2f5cd7eb"
      },
      "execution_count": null,
      "outputs": [
        {
          "output_type": "stream",
          "name": "stdout",
          "text": [
            "Mounted at /content/drive\n"
          ]
        }
      ]
    }
  ]
}